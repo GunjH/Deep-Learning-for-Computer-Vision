{
 "cells": [
  {
   "cell_type": "code",
   "execution_count": 1,
   "id": "16c2a963-daf8-420a-b790-b1134eb3b98a",
   "metadata": {},
   "outputs": [],
   "source": [
    "import datetime"
   ]
  },
  {
   "cell_type": "code",
   "execution_count": 2,
   "id": "21c4cb92-b0c3-4ab9-af21-29bc812612a3",
   "metadata": {},
   "outputs": [],
   "source": [
    "%load_ext tensorboard\n",
    "!rm -rf ./xbd_logs/fit/\n",
    "log_dir = \"xbd_logs/fit/\" + datetime.datetime.now().strftime(\"%Y%m%d-%H%M%S\")\n",
    "import os\n",
    "if not os.path.exists(log_dir):\n",
    "    os.makedirs(log_dir)"
   ]
  },
  {
   "cell_type": "code",
   "execution_count": 3,
   "id": "1651d237",
   "metadata": {},
   "outputs": [],
   "source": [
    "from typing import Any, Sequence, Union, Optional, Dict, Tuple\n",
    "\n",
    "import tqdm\n",
    "import glob\n",
    "import random\n",
    "import functools\n",
    "import imageio\n",
    "\n",
    "import numpy as np\n",
    "import pytorch_lightning as pl\n",
    "import albumentations as A\n",
    "from albumentations.pytorch.transforms import ToTensorV2\n",
    "import torch\n",
    "\n",
    "torch.set_float32_matmul_precision(\"high\")\n",
    "import torchdata.datapipes as dp\n",
    "from torchvision import transforms\n",
    "from torch.utils.data import DataLoader\n",
    "from torchmetrics import JaccardIndex\n",
    "\n",
    "# We broke a few utils functions out. \n",
    "from utils_ms import label_from_3band, read_rgb_tile, one_hot_2_class"
   ]
  },
  {
   "cell_type": "code",
   "execution_count": 4,
   "id": "81d26a45-94ce-4609-988d-54cacf7d52e8",
   "metadata": {},
   "outputs": [],
   "source": [
    "import sys\n",
    "sys.path.append('./Moonshine')\n",
    "from moonshine.preprocessing import get_preprocessing_fn"
   ]
  },
  {
   "cell_type": "code",
   "execution_count": 5,
   "id": "98e256bc-ecd8-41d7-8366-9f67d094ae8b",
   "metadata": {},
   "outputs": [],
   "source": [
    "def read_item(path: str) -> Tuple[np.ndarray, np.ndarray]:\n",
    "    \"\"\"Read the image and the label mask from a path.\"\"\"\n",
    "    fn = get_preprocessing_fn(model=\"unet\", dataset=\"xbd_mexico\")\n",
    "    data, _ = read_rgb_tile(path)\n",
    "    data = fn(data)\n",
    "    data = data.astype(np.float32)\n",
    "\n",
    "    mask_path = label_from_3band(path, label_type=\"mask\")\n",
    "    mask = imageio.v2.imread(mask_path).astype(np.uint8)\n",
    "    mask[mask == 255] = 1\n",
    "    mask = one_hot_2_class(mask, num_classes=2)\n",
    "\n",
    "    return (data, mask)\n",
    "\n",
    "\n",
    "def remove_missing(path: str) -> bool:\n",
    "    \"\"\"If we are missing a label mask file, we'll skip that example.\"\"\"\n",
    "    mask_path = label_from_3band(path, label_type=\"mask\")\n",
    "    if os.path.exists(mask_path):\n",
    "        return True\n",
    "    return False\n",
    "\n",
    "\n",
    "def apply_transforms(row, transform):\n",
    "    \"\"\"Apply the PyTorch transforms for the DataPipe.\"\"\"\n",
    "    tfx = transform(image=row[0], mask=row[1])\n",
    "    return tfx[\"image\"], tfx[\"mask\"]\n",
    "\n",
    "\n",
    "def building_footprint_datapipe(files, transform):\n",
    "    \"\"\"Create the DataPipe for a set of files.\"\"\"\n",
    "    print(f\"Got {len(files)} files for this dataset\")\n",
    "\n",
    "    datapipe = dp.iter.IterableWrapper(files)\n",
    "    datapipe = datapipe.filter(remove_missing)\n",
    "    datapipe = datapipe.sharding_filter()\n",
    "    datapipe = datapipe.map(read_item)\n",
    "\n",
    "    if transform:\n",
    "        transform_fx = functools.partial(\n",
    "            apply_transforms,\n",
    "            transform=transform\n",
    "        )\n",
    "        datapipe = datapipe.map(transform_fx)\n",
    "\n",
    "    return datapipe"
   ]
  },
  {
   "cell_type": "code",
   "execution_count": 6,
   "id": "9bc8ac5d",
   "metadata": {},
   "outputs": [],
   "source": [
    "def train_test_split(\n",
    "    files: Sequence[str], train_percent: float = 0.8\n",
    ") -> Tuple[list, list, list]:\n",
    "    \"\"\"A simple train test split.\"\"\"\n",
    "    random.seed(1234)\n",
    "    total = len(files)\n",
    "    n_train = int(total * train_percent)\n",
    "    n_test = int(total * ((1-train_percent)/2))\n",
    "    random.shuffle(files)\n",
    "\n",
    "    return files[0:n_train], files[n_train:(n_train+n_test)], files[(n_train+n_test):]\n",
    "\n",
    "\n",
    "def get_dataset(files: Sequence[str], split: str = \"train\") -> DataLoader:\n",
    "    \"\"\"Create a dataset for building footprint classification.\"\"\"\n",
    "    tfx = [\n",
    "        A.RandomCrop(width=512, height=512),\n",
    "    ]\n",
    "    train_tfx = [\n",
    "        A.HorizontalFlip(p=0.5),\n",
    "        A.VerticalFlip(p=0.5),\n",
    "    ]\n",
    "    \n",
    "    if split == \"train\":\n",
    "        tfx.extend(train_tfx)\n",
    "    tfx.append(ToTensorV2(transpose_mask=True))\n",
    "        \n",
    "    datapipe = building_footprint_datapipe(\n",
    "        files,\n",
    "        transform=A.Compose(tfx),\n",
    "    )\n",
    "\n",
    "    return DataLoader(\n",
    "        dataset=datapipe,\n",
    "        batch_size=2,\n",
    "        shuffle=(split == \"train\"),\n",
    "        drop_last=True,\n",
    "        num_workers=8,\n",
    "        pin_memory=True,\n",
    "    )"
   ]
  },
  {
   "cell_type": "code",
   "execution_count": 7,
   "id": "35237921",
   "metadata": {},
   "outputs": [],
   "source": [
    "from moonshine.models.unet import UNet\n",
    "\n",
    "class BuildingClassifier(torch.nn.Module):\n",
    "    def __init__(self, pretrained=False):\n",
    "        super().__init__()\n",
    "\n",
    "        # Create a blank model based on the available architectures.\n",
    "        self.backbone = UNet(name=\"unet50_fmow_rgb\")\n",
    "\n",
    "        # If we are using pretrained weights, load them here. \n",
    "        if pretrained:\n",
    "            self.backbone.load_weights(\n",
    "                encoder_weights=\"unet50_fmow_rgb\", decoder_weights=None\n",
    "            )\n",
    "\n",
    "        # Run a per-pixel classifier on top of the output vectors.\n",
    "        self.classifier = torch.nn.Conv2d(32, 2, (1, 1))\n",
    "\n",
    "    def forward(self, x):\n",
    "        x = self.backbone(x)\n",
    "        return self.classifier(x)"
   ]
  },
  {
   "cell_type": "code",
   "execution_count": 8,
   "id": "471eab26",
   "metadata": {},
   "outputs": [],
   "source": [
    "class BuildingTrainer(pl.LightningModule):\n",
    "    def __init__(self, model):\n",
    "        super().__init__()\n",
    "        self.model = model\n",
    "        self.jaccard = JaccardIndex(task=\"multiclass\", num_classes=2)\n",
    "\n",
    "    def training_step(self, batch, batch_idx):\n",
    "        x, y = batch\n",
    "        y_hat = self.model(x)\n",
    "\n",
    "        loss = torch.nn.functional.cross_entropy(y_hat, y)\n",
    "        iou = self.jaccard(y_hat, y[:, 1, :, :])\n",
    "        self.log(\"train/loss\", loss, on_epoch=True, prog_bar=True)\n",
    "        self.log(\"train/iou\", iou, on_epoch=True, prog_bar=True)\n",
    "        return loss\n",
    "\n",
    "    def validation_step(self, batch, batch_idx):\n",
    "        x, y = batch\n",
    "        y_hat = self.model(x)\n",
    "\n",
    "        loss = torch.nn.functional.cross_entropy(y_hat, y)\n",
    "        iou = self.jaccard(y_hat, y[:, 1, :, :])\n",
    "        self.log(\"val/loss\", loss, on_epoch=True, prog_bar=True)\n",
    "        self.log(\"val/iou\", iou, on_epoch=True, prog_bar=True)\n",
    "        return loss\n",
    "\n",
    "    def configure_optimizers(self):\n",
    "        optimizer = torch.optim.Adam(self.parameters(), lr=1e-4)\n",
    "        return optimizer"
   ]
  },
  {
   "cell_type": "code",
   "execution_count": 9,
   "id": "2f607b8b-b9c7-47d4-8252-221e694e47af",
   "metadata": {
    "tags": []
   },
   "outputs": [
    {
     "name": "stderr",
     "output_type": "stream",
     "text": [
      "/media/vivek/Shared/anaconda_envs/dlp3/lib/python3.8/site-packages/torch/utils/data/graph_settings.py:90: UserWarning: `shuffle=True` was set, but the datapipe does not contain a `Shuffler`. Adding one at the end. Be aware that the default buffer size might not be sufficient for your task.\n",
      "  warnings.warn(\n",
      "GPU available: True (cuda), used: True\n",
      "TPU available: False, using: 0 TPU cores\n",
      "IPU available: False, using: 0 IPUs\n",
      "HPU available: False, using: 0 HPUs\n"
     ]
    },
    {
     "name": "stdout",
     "output_type": "stream",
     "text": [
      "Got 96 files for this dataset\n",
      "Got 13 files for this dataset\n"
     ]
    },
    {
     "name": "stderr",
     "output_type": "stream",
     "text": [
      "Missing logger folder: xbd_logs/fit/20230420-141640/building_model\n",
      "LOCAL_RANK: 0 - CUDA_VISIBLE_DEVICES: [0]\n",
      "\n",
      "  | Name    | Type                   | Params\n",
      "---------------------------------------------------\n",
      "0 | model   | BuildingClassifier     | 32.5 M\n",
      "1 | jaccard | MulticlassJaccardIndex | 0     \n",
      "---------------------------------------------------\n",
      "32.5 M    Trainable params\n",
      "0         Non-trainable params\n",
      "32.5 M    Total params\n",
      "130.167   Total estimated model params size (MB)\n"
     ]
    },
    {
     "data": {
      "application/vnd.jupyter.widget-view+json": {
       "model_id": "856213da729147dfae8c6a8c9ad28d29",
       "version_major": 2,
       "version_minor": 0
      },
      "text/plain": [
       "Sanity Checking: 0it [00:00, ?it/s]"
      ]
     },
     "metadata": {},
     "output_type": "display_data"
    },
    {
     "data": {
      "application/vnd.jupyter.widget-view+json": {
       "model_id": "19c845a6806945e2ab8980e6d2e38ac4",
       "version_major": 2,
       "version_minor": 0
      },
      "text/plain": [
       "Training: 0it [00:00, ?it/s]"
      ]
     },
     "metadata": {},
     "output_type": "display_data"
    },
    {
     "data": {
      "application/vnd.jupyter.widget-view+json": {
       "model_id": "3dc724e5fede473dab3c023a34cd5a9b",
       "version_major": 2,
       "version_minor": 0
      },
      "text/plain": [
       "Validation: 0it [00:00, ?it/s]"
      ]
     },
     "metadata": {},
     "output_type": "display_data"
    },
    {
     "name": "stderr",
     "output_type": "stream",
     "text": [
      "/media/vivek/Shared/anaconda_envs/dlp3/lib/python3.8/site-packages/pytorch_lightning/trainer/call.py:54: UserWarning: Detected KeyboardInterrupt, attempting graceful shutdown...\n",
      "  rank_zero_warn(\"Detected KeyboardInterrupt, attempting graceful shutdown...\")\n"
     ]
    }
   ],
   "source": [
    "DATA_PATH = './data/mexico/'\n",
    "\n",
    "files = glob.glob(os.path.join(DATA_PATH, \"post/*.tif\"))\n",
    "\n",
    "# Create a name for Tensorboard\n",
    "exp_name = f\"building_model\"\n",
    "\n",
    "# Create our datasets.\n",
    "train_files, test_files, val_files = train_test_split(files)\n",
    "train_dataset = get_dataset(train_files, split=\"train\")\n",
    "val_dataset = get_dataset(val_files, split=\"val\")\n",
    "\n",
    "logger = pl.loggers.TensorBoardLogger(log_dir, name=exp_name)\n",
    "trainer = pl.Trainer(\n",
    "    accelerator=\"auto\",\n",
    "    max_epochs=50,\n",
    "    enable_progress_bar=True,\n",
    "    logger=logger,\n",
    ")\n",
    "\n",
    "model = BuildingClassifier(pretrained=True)\n",
    "pytrain = BuildingTrainer(model)\n",
    "\n",
    "# Train!\n",
    "trainer.fit(\n",
    "    model=pytrain,\n",
    "    train_dataloaders=train_dataset,\n",
    "    val_dataloaders=val_dataset,\n",
    ")"
   ]
  },
  {
   "cell_type": "code",
   "execution_count": null,
   "id": "d3efb9a4-d499-4be1-a2c0-3543559165ca",
   "metadata": {},
   "outputs": [],
   "source": [
    "torch.save(model.state_dict(), './models/trainedc512b2.pt')"
   ]
  },
  {
   "cell_type": "code",
   "execution_count": null,
   "id": "c59f12b4",
   "metadata": {},
   "outputs": [],
   "source": [
    "%tensorboard --logdir log_dir"
   ]
  },
  {
   "cell_type": "code",
   "execution_count": null,
   "id": "34a14c61-8fc4-4879-8054-50671ab76d82",
   "metadata": {},
   "outputs": [],
   "source": []
  }
 ],
 "metadata": {
  "kernelspec": {
   "display_name": "Python 3 (ipykernel)",
   "language": "python",
   "name": "python3"
  },
  "language_info": {
   "codemirror_mode": {
    "name": "ipython",
    "version": 3
   },
   "file_extension": ".py",
   "mimetype": "text/x-python",
   "name": "python",
   "nbconvert_exporter": "python",
   "pygments_lexer": "ipython3",
   "version": "3.8.16"
  }
 },
 "nbformat": 4,
 "nbformat_minor": 5
}
