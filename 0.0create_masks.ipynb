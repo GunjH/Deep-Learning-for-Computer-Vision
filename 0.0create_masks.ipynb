{
 "cells": [
  {
   "cell_type": "code",
   "execution_count": 1,
   "id": "bc25b7db-65bd-4f45-8a39-1a5f58c93ea6",
   "metadata": {},
   "outputs": [],
   "source": [
    "import json\n",
    "import os\n",
    "from os import path\n",
    "import numpy as np\n",
    "import matplotlib.pyplot as plt\n",
    "import shapely.wkt\n",
    "from cv2 import fillPoly, imwrite\n",
    "from PIL import Image\n",
    "from tqdm import tqdm"
   ]
  },
  {
   "cell_type": "code",
   "execution_count": 2,
   "id": "19dba9fd-a281-441d-9ed7-3e2f05c4dd18",
   "metadata": {},
   "outputs": [],
   "source": [
    "DMG_CLASSES = {\"no-damage\":0,\"minor-damage\":1,\"major-damage\":2,\"destroyed\":3}\n",
    "DMG_NAMES = {0:\"no-damage\",1:\"minor-damage\",2:\"major-damage\",3:\"destroyed\"}\n",
    "\n",
    "IMG_FOLDER = [\n",
    "            './data/mexico/pre'            \n",
    "             ]\n",
    "LABEL_FOLDER = [\n",
    "            './data/mexico/labels/'\n",
    "                ]\n",
    "\n",
    "MASK_FOLDER = [\n",
    "                './data/mexico/mask/'\n",
    "                ]"
   ]
  },
  {
   "cell_type": "code",
   "execution_count": 3,
   "id": "4da76f62-e82b-4089-8540-9566d96a42ae",
   "metadata": {},
   "outputs": [],
   "source": [
    "def polygons_to_mask_pre(PATH,out_type=\"many\"):\n",
    "    \"\"\"\n",
    "    :param PATH: A path to a JSON with Polygons\n",
    "    :param out_type: changes output type\n",
    "    :returns: If output type is one, returns a 1024x1024 np.array with values 1-4 \n",
    "    corresponding to building dmg scales 0-4, where if polygons overlapped in the \n",
    "    input, the maximum dmg was used. If output type is many returns a 1024x1024x4 \n",
    "    np.array with values 0 or 1 corresponding to no building vs. building of dmg \n",
    "    type x in channel x.\n",
    "    \"\"\"\n",
    "    JSON = json.load(open(PATH))\n",
    "    polygons = []\n",
    "    for polygon in JSON['features'][\"xy\"]:\n",
    "        if (polygon['properties']['feature_type'] == 'building'):\n",
    "            coords = list(shapely.geometry.mapping(shapely.wkt.loads(polygon['wkt']))['coordinates'][0])\n",
    "            polygons.append((1,np.array(coords, np.int32)))\n",
    "    size = (1024,1024,5)\n",
    "    mask_img = np.zeros(size, np.uint8)\n",
    "\n",
    "    if out_type == \"many\":\n",
    "        for poly in polygons:\n",
    "            blank =  np.zeros((1024,1024), np.uint8)\n",
    "            fillPoly(blank, [poly[1]], color=1)\n",
    "            mask_img[:,:,poly[0]+1] = np.maximum(mask_img[:,:,poly[0]+1],blank)\n",
    "        mask_img[:,:,0] = np.ones((1024,1024)) - np.maximum(np.maximum(np.maximum(mask_img[:,:,1],mask_img[:,:,2]),mask_img[:,:,3]),mask_img[:,:,4])\n",
    "        return mask_img\n",
    "\n",
    "    else:\n",
    "        for poly in polygons:\n",
    "            blank =  np.zeros((1024,1024), np.uint8)\n",
    "            fillPoly(blank, [poly[1]], color=poly[0]+1)\n",
    "            mask_img[:,:,poly[0]+1] = np.maximum(mask_img[:,:,poly[0]+1],blank)\n",
    "        mask_all = np.maximum(np.maximum(np.maximum(mask_img[:,:,1],mask_img[:,:,2]),mask_img[:,:,3]),mask_img[:,:,4])\n",
    "        return mask_all"
   ]
  },
  {
   "cell_type": "code",
   "execution_count": 4,
   "id": "57291fe3-d0c9-4393-82e0-3455970c3210",
   "metadata": {},
   "outputs": [],
   "source": [
    "def polygons_to_mask_post(PATH,out_type=\"many\"):\n",
    "    \"\"\"\n",
    "    :param PATH: A path to a JSON with Polygons\n",
    "    :param out_type: changes output type\n",
    "    :returns: If output type is one, returns a 1024x1024 np.array with values 1-4 \n",
    "    corresponding to building dmg scales 0-4, where if polygons overlapped in the \n",
    "    input, the maximum dmg was used. If output type is many returns a 1024x1024x4 \n",
    "    np.array with values 0 or 1 corresponding to no building vs. building of dmg \n",
    "    type x in channel x.\n",
    "    \"\"\"\n",
    "    JSON = json.load(open(PATH))\n",
    "    polygons = []\n",
    "    for polygon in JSON['features'][\"xy\"]:\n",
    "        if (polygon['properties']['subtype'] != 'un-classified'):\n",
    "            dmgtype = DMG_CLASSES[polygon['properties']['subtype']]\n",
    "            coords = list(shapely.geometry.mapping(shapely.wkt.loads(polygon['wkt']))['coordinates'][0])\n",
    "            polygons.append((dmgtype,np.array(coords, np.int32)))\n",
    "    size = (1024,1024,5)\n",
    "    mask_img = np.zeros(size, np.uint8)\n",
    "\n",
    "    if out_type == \"many\":\n",
    "        for poly in polygons:\n",
    "            blank =  np.zeros((1024,1024), np.uint8)\n",
    "            fillPoly(blank, [poly[1]], color=1)\n",
    "            mask_img[:,:,poly[0]+1] = np.maximum(mask_img[:,:,poly[0]+1],blank)\n",
    "        mask_img[:,:,0] = np.ones((1024,1024)) - np.maximum(np.maximum(np.maximum(mask_img[:,:,1],mask_img[:,:,2]),mask_img[:,:,3]),mask_img[:,:,4])\n",
    "        return mask_img\n",
    "\n",
    "    else:\n",
    "        for poly in polygons:\n",
    "            blank =  np.zeros((1024,1024), np.uint8)\n",
    "            fillPoly(blank, [poly[1]], color=poly[0]+1)\n",
    "            mask_img[:,:,poly[0]+1] = np.maximum(mask_img[:,:,poly[0]+1],blank)\n",
    "        mask_all = np.maximum(np.maximum(np.maximum(mask_img[:,:,1],mask_img[:,:,2]),mask_img[:,:,3]),mask_img[:,:,4])\n",
    "        return mask_all"
   ]
  },
  {
   "cell_type": "code",
   "execution_count": 5,
   "id": "4b5775dd-8f45-457f-baec-b26f718a3b19",
   "metadata": {},
   "outputs": [],
   "source": [
    "def create_mask_png_post(IN_FOLDER,IN_FILE,OUT_FOLDER):\n",
    "    \"\"\"\n",
    "    :param IN_FOLDER: A path to the input folder with jsons\n",
    "    :param IN_FILE: name of input json\n",
    "    :param OUT_FOLDER: Path to output folder for mask pngs\n",
    "    \"\"\"\n",
    "    mask_all = polygons_to_mask_post(IN_FOLDER+IN_FILE,out_type=\"polygons_to_mask\")\n",
    "    mask = Image.fromarray(mask_all)\n",
    "    colorize_mask_(mask)\n",
    "    mask.save(OUT_FOLDER+IN_FILE[:-5]+\"_mask.png\")"
   ]
  },
  {
   "cell_type": "code",
   "execution_count": 6,
   "id": "212ac67a-4e24-4029-a096-5aa5110c2e6b",
   "metadata": {},
   "outputs": [],
   "source": [
    "def create_mask_png_pre(IN_FOLDER,IN_FILE,OUT_FOLDER):\n",
    "    \"\"\"\n",
    "    :param IN_FOLDER: A path to the input folder with jsons\n",
    "    :param IN_FILE: name of input json\n",
    "    :param OUT_FOLDER: Path to output folder for mask pngs\n",
    "    \"\"\"\n",
    "    mask_all = polygons_to_mask_pre(IN_FOLDER+IN_FILE,out_type=\"polygons_to_mask\")\n",
    "    mask = Image.fromarray(mask_all)\n",
    "    colorize_mask_(mask)\n",
    "    mask.save(OUT_FOLDER+IN_FILE[:-5]+\"_mask.png\")"
   ]
  },
  {
   "cell_type": "code",
   "execution_count": 7,
   "id": "daa25cb1-e3a8-4822-ae40-6b770c1282f9",
   "metadata": {},
   "outputs": [],
   "source": [
    "def colorize_mask_(mask, color_map=None):\n",
    "    \"\"\"\n",
    "    Attaches a color palette to a PIL image. So long as the image is saved as a PNG, it will render visibly using the\n",
    "    provided color map.\n",
    "    :param mask: PIL image whose values are only 0 to 4 inclusive\n",
    "    :param color_map: np.ndarray or list of 3-tuples with 5 rows\n",
    "    :return:\n",
    "    \"\"\"\n",
    "    color_map = color_map or np.array([(0, 0, 0),  # 0=background --> black\n",
    "                                       (255, 255,255),  # no damage (or just 'building' for localization) --> green\n",
    "                                       (255, 255, 255),  # minor damage --> yellow\n",
    "                                       (255, 255, 255),  # major damage --> orange\n",
    "                                       (255, 255, 255),  # destroyed --> red\n",
    "                                       ])\n",
    "    assert color_map.shape == (5, 3)\n",
    "    mask.putpalette(color_map.astype(np.uint8))\n",
    "    return None"
   ]
  },
  {
   "cell_type": "code",
   "execution_count": 8,
   "id": "f0c50c37-1377-4911-ae50-13a3e29c507d",
   "metadata": {},
   "outputs": [],
   "source": [
    "for folder in MASK_FOLDER:\n",
    "    os.makedirs(folder, exist_ok=True)"
   ]
  },
  {
   "cell_type": "code",
   "execution_count": 9,
   "id": "a6c9c137-2cb3-40e9-b2a1-d617d7fb92ee",
   "metadata": {
    "tags": []
   },
   "outputs": [
    {
     "name": "stderr",
     "output_type": "stream",
     "text": [
      "100%|██████████████████████████████████████████████████████████████████████████████████████████████████████████████████████████████████████████████████████████████████████████████████████████████████████| 242/242 [00:35<00:00,  6.75it/s]\n"
     ]
    }
   ],
   "source": [
    "keywords = [\"post\"]\n",
    "for file in tqdm(os.listdir(LABEL_FOLDER[0])):\n",
    "    if file.endswith(\".json\"):\n",
    "        filename = os.path.splitext(file)[0]\n",
    "        filename_fragments = filename.split(\"_\")\n",
    "        samekeywords = list(set(filename_fragments) & set(keywords)) #to select only the post jsons\n",
    "        if len(samekeywords) == len(keywords):\n",
    "            create_mask_png_post(LABEL_FOLDER[0],file,MASK_FOLDER[0])"
   ]
  },
  {
   "cell_type": "code",
   "execution_count": 10,
   "id": "0d3517b5-54a9-4742-bd48-cbe47785c0b3",
   "metadata": {},
   "outputs": [
    {
     "name": "stderr",
     "output_type": "stream",
     "text": [
      "100%|██████████████████████████████████████████████████████████████████████████████████████████████████████████████████████████████████████████████████████████████████████████████████████████████████████| 242/242 [00:36<00:00,  6.61it/s]\n"
     ]
    }
   ],
   "source": [
    "keywords = [\"pre\"]\n",
    "for file in tqdm(os.listdir(LABEL_FOLDER[0])):\n",
    "    if file.endswith(\".json\"):\n",
    "        filename = os.path.splitext(file)[0]\n",
    "        filename_fragments = filename.split(\"_\")\n",
    "        samekeywords = list(set(filename_fragments) & set(keywords)) #to select only the pre jsons\n",
    "        if len(samekeywords) == len(keywords):\n",
    "            create_mask_png_pre(LABEL_FOLDER[0],file,MASK_FOLDER[0])"
   ]
  },
  {
   "cell_type": "code",
   "execution_count": null,
   "id": "3371af07-449a-446b-97d2-67e0f5d23a1e",
   "metadata": {},
   "outputs": [],
   "source": []
  }
 ],
 "metadata": {
  "kernelspec": {
   "display_name": "Python 3 (ipykernel)",
   "language": "python",
   "name": "python3"
  },
  "language_info": {
   "codemirror_mode": {
    "name": "ipython",
    "version": 3
   },
   "file_extension": ".py",
   "mimetype": "text/x-python",
   "name": "python",
   "nbconvert_exporter": "python",
   "pygments_lexer": "ipython3",
   "version": "3.8.16"
  }
 },
 "nbformat": 4,
 "nbformat_minor": 5
}
