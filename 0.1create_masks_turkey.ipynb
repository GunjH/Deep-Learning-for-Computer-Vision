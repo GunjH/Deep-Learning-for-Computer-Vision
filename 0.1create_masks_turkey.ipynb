{
 "cells": [
  {
   "cell_type": "code",
   "execution_count": 1,
   "id": "33b32e7c-1b2e-40e9-a865-e0645c4d5bb5",
   "metadata": {},
   "outputs": [],
   "source": [
    "import rasterio\n",
    "from rasterio.features import geometry_mask\n",
    "import geopandas as gpd\n",
    "from shapely.geometry import box, Polygon\n",
    "import shapely.ops as ops\n",
    "import numpy as np\n",
    "import cv2\n",
    "import glob\n",
    "import os \n",
    "from tqdm import tqdm"
   ]
  },
  {
   "cell_type": "code",
   "execution_count": 2,
   "id": "a2ce73f7-37e2-41d8-b2e6-cf56ec7fd558",
   "metadata": {},
   "outputs": [],
   "source": [
    "def create_mask(input_geojson_path, tif_path, output_mask_path, width=1024, height=1024):\n",
    "    # Load the input GeoJSON file using geopandas\n",
    "    gdf = gpd.read_file(input_geojson_path)\n",
    "\n",
    "    # Open the TIF file using rasterio\n",
    "    with rasterio.open(tif_path) as src:\n",
    "        # Get the bounding box coordinates for the TIF file\n",
    "        left, bottom, right, top = src.bounds\n",
    "\n",
    "        # Define the extent as a GeoDataFrame with a single polygon\n",
    "        extent = gpd.GeoDataFrame(geometry=[box(left, bottom, right, top)], crs=src.crs)\n",
    "\n",
    "        # Reproject the extent to match the CRS of the input GeoJSON file\n",
    "        extent = extent.to_crs(gdf.crs)\n",
    "        left, bottom, right, top = extent.bounds.values[0]\n",
    "\n",
    "    # Reproject the input GeoJSON file to match the CRS of the extent\n",
    "    gdf = gdf.to_crs(extent.crs)\n",
    "\n",
    "    # Crop the GeoJSON file by the extent\n",
    "    cropped_gdf = gpd.overlay(gdf, extent, how='intersection')\n",
    "\n",
    "    # Convert the cropped GeoDataFrame to a Shapely MultiPolygon object\n",
    "    polygons = []\n",
    "    for geom in cropped_gdf.geometry:\n",
    "        if isinstance(geom, Polygon):\n",
    "            polygons.append(geom)\n",
    "        else:\n",
    "            for poly in geom.geoms:\n",
    "                # do something with the polygon, e.g. get its area\n",
    "                polygons.append(poly)\n",
    "\n",
    "    # Combine all polygons into a single polygon\n",
    "    combined_polygon = ops.unary_union(polygons)\n",
    "\n",
    "    # Define the size and resolution of the mask\n",
    "    transform = rasterio.transform.from_bounds(left, bottom, right, top, width=width, height=height)\n",
    "\n",
    "    # Create a raster image from the polygon\n",
    "    raster = geometry_mask([combined_polygon], out_shape=(height, width), transform=transform)\n",
    "\n",
    "    # Convert the raster image to a binary mask\n",
    "    mask = (raster * 255).astype(np.uint8)\n",
    "    mask = cv2.bitwise_not(mask)\n",
    "\n",
    "    # Save the mask to a file\n",
    "    cv2.imwrite(output_mask_path, mask)\n",
    "    \n",
    "    # Return the mask as a NumPy array\n",
    "    return mask"
   ]
  },
  {
   "cell_type": "code",
   "execution_count": 3,
   "id": "4bbb6c2b-90d4-4c24-9917-6103f5844144",
   "metadata": {},
   "outputs": [
    {
     "name": "stderr",
     "output_type": "stream",
     "text": [
      "100%|████████████████████████████████████████████████████████████████████████████████████████████████████████████████████████████████████████████████████████████████████████████████████████████████████████| 55/55 [00:03<00:00, 15.30it/s]\n"
     ]
    }
   ],
   "source": [
    "tiffpath = './data/Turkey/images/'\n",
    "tiff_files = sorted(glob.glob(os.path.join(tiffpath, \"*.tif\")))\n",
    "jsonpath = './data/Turkey/labels/'\n",
    "json_files = sorted(glob.glob(os.path.join(jsonpath, \"*.geojson\")))\n",
    "output_path = './data/Turkey/mask/'\n",
    "i = 0\n",
    "failed = []\n",
    "for img in tqdm(tiff_files):\n",
    "    output_mask_path = os.path.join(output_path, os.path.splitext(os.path.basename(img))[0] + '_mask1.png')\n",
    "    # print(output_mask_path)\n",
    "    try:\n",
    "        mask = create_mask(json_files[i], img, output_mask_path)\n",
    "        cv2.imwrite(output_mask_path, mask)\n",
    "        i+=1\n",
    "    except:\n",
    "        failed.append(img)\n",
    "        continue"
   ]
  },
  {
   "cell_type": "code",
   "execution_count": null,
   "id": "35809490-5f58-43a1-9be4-8746dcd0296b",
   "metadata": {},
   "outputs": [],
   "source": []
  }
 ],
 "metadata": {
  "kernelspec": {
   "display_name": "Python 3 (ipykernel)",
   "language": "python",
   "name": "python3"
  },
  "language_info": {
   "codemirror_mode": {
    "name": "ipython",
    "version": 3
   },
   "file_extension": ".py",
   "mimetype": "text/x-python",
   "name": "python",
   "nbconvert_exporter": "python",
   "pygments_lexer": "ipython3",
   "version": "3.8.16"
  }
 },
 "nbformat": 4,
 "nbformat_minor": 5
}
